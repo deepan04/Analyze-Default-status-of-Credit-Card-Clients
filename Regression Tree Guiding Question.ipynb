{
 "cells": [
  {
   "cell_type": "code",
   "execution_count": 189,
   "metadata": {
    "collapsed": false
   },
   "outputs": [],
   "source": [
    "import pandas as pd\n",
    "data=pd.read_csv(\"D:\\Masters Studies\\Fall 2016\\CS - 548\\Project 2\\Default_Credit_Card - Category.csv\",sep=\",\")\n",
    "data.head()\n",
    "data=data[[u'ID', u'LIMIT_BAL(X1)', u'SEX(X2)', u'EDUCATION(X3)', u'MARRIAGE(X4)',\n",
    "       u'AGE(X5)', u'PAY_1(X6)', u'PAY_2(X7)', u'PAY_3(X8)', u'PAY_4(X9)',\n",
    "       u'PAY_5(X10)', u'PAY_6(X11)', u'BILL_AMT1(X12)', u'BILL_AMT2(X13)',\n",
    "       u'BILL_AMT3(X14)', u'BILL_AMT4(X15)', u'BILL_AMT5(X16)',\n",
    "       u'BILL_AMT6(X17)',u'PAY_AMT2(X19)', u'PAY_AMT3(X20)',\n",
    "       u'PAY_AMT4(X21)', u'PAY_AMT5(X22)','default_payment_next_month(Y)', u'PAY_AMT6(X23)',u'PAY_AMT1(X18)']]\n",
    "\n",
    "data['EDUCATION(X3)']=data['EDUCATION(X3)'].replace([0,4,5,6],4)\n",
    "data['default_payment_next_month(Y)']=data['default_payment_next_month(Y)'].replace(['Yes'],1)\n",
    "data['default_payment_next_month(Y)']=data['default_payment_next_month(Y)'].replace(['No'],0)"
   ]
  },
  {
   "cell_type": "code",
   "execution_count": 74,
   "metadata": {
    "collapsed": false
   },
   "outputs": [
    {
     "name": "stdout",
     "output_type": "stream",
     "text": [
      "('Scr=', -0.34603260927760848)\n",
      "('Rootme=', 20256.798815951057)\n",
      "--- 33.4300000668 seconds ---\n"
     ]
    }
   ],
   "source": [
    "from sklearn.model_selection import KFold, cross_val_score\n",
    "from sklearn import tree\n",
    "from sklearn.metrics import mean_squared_error as ms\n",
    "from math import sqrt\n",
    "import time\n",
    "start_time = time.time()\n",
    "k_fold = KFold(n_splits=10)\n",
    "clf = tree.DecisionTreeRegressor(min_samples_leaf=3,presort=True)\n",
    "scr=[]\n",
    "rootme=[]\n",
    "for traindata, testdata in k_fold.split(data):\n",
    "    clf.fit(data.iloc[traindata,1:24],data.iloc[traindata,24])\n",
    "    scr.append(clf.score(data.iloc[testdata,1:24],data.iloc[testdata,24]))\n",
    "    predicted=clf.predict(data.iloc[testdata,1:24])\n",
    "    rootme.append(sqrt(ms(data.iloc[testdata,24],predicted)))\n",
    "print('Scr=',sum(scr)/10)\n",
    "print('Rootme=',sum(rootme)/10)\n",
    "print(\"--- %s seconds ---\" % (time.time() - start_time))"
   ]
  },
  {
   "cell_type": "code",
   "execution_count": 73,
   "metadata": {
    "collapsed": false
   },
   "outputs": [
    {
     "data": {
      "text/html": [
       "<div>\n",
       "<table border=\"1\" class=\"dataframe\">\n",
       "  <thead>\n",
       "    <tr style=\"text-align: right;\">\n",
       "      <th></th>\n",
       "      <th>ID</th>\n",
       "      <th>LIMIT_BAL(X1)</th>\n",
       "      <th>SEX(X2)</th>\n",
       "      <th>EDUCATION(X3)</th>\n",
       "      <th>MARRIAGE(X4)</th>\n",
       "      <th>AGE(X5)</th>\n",
       "      <th>PAY_1(X6)</th>\n",
       "      <th>PAY_2(X7)</th>\n",
       "      <th>PAY_3(X8)</th>\n",
       "      <th>PAY_4(X9)</th>\n",
       "      <th>...</th>\n",
       "      <th>BILL_AMT3(X14)</th>\n",
       "      <th>BILL_AMT4(X15)</th>\n",
       "      <th>BILL_AMT5(X16)</th>\n",
       "      <th>BILL_AMT6(X17)</th>\n",
       "      <th>PAY_AMT1(X18)</th>\n",
       "      <th>PAY_AMT2(X19)</th>\n",
       "      <th>PAY_AMT3(X20)</th>\n",
       "      <th>PAY_AMT4(X21)</th>\n",
       "      <th>PAY_AMT5(X22)</th>\n",
       "      <th>default_payment_next_month(Y)</th>\n",
       "    </tr>\n",
       "  </thead>\n",
       "  <tbody>\n",
       "    <tr>\n",
       "      <th>0</th>\n",
       "      <td>1</td>\n",
       "      <td>20000</td>\n",
       "      <td>2</td>\n",
       "      <td>2</td>\n",
       "      <td>1</td>\n",
       "      <td>24</td>\n",
       "      <td>2</td>\n",
       "      <td>2</td>\n",
       "      <td>-1</td>\n",
       "      <td>-1</td>\n",
       "      <td>...</td>\n",
       "      <td>689</td>\n",
       "      <td>0</td>\n",
       "      <td>0</td>\n",
       "      <td>0</td>\n",
       "      <td>0</td>\n",
       "      <td>689</td>\n",
       "      <td>0</td>\n",
       "      <td>0</td>\n",
       "      <td>0</td>\n",
       "      <td>1</td>\n",
       "    </tr>\n",
       "  </tbody>\n",
       "</table>\n",
       "<p>1 rows × 24 columns</p>\n",
       "</div>"
      ],
      "text/plain": [
       "   ID  LIMIT_BAL(X1)  SEX(X2)  EDUCATION(X3)  MARRIAGE(X4)  AGE(X5)  \\\n",
       "0   1          20000        2              2             1       24   \n",
       "\n",
       "   PAY_1(X6)  PAY_2(X7)  PAY_3(X8)  PAY_4(X9)              ...                \\\n",
       "0          2          2         -1         -1              ...                 \n",
       "\n",
       "   BILL_AMT3(X14)  BILL_AMT4(X15)  BILL_AMT5(X16)  BILL_AMT6(X17)  \\\n",
       "0             689               0               0               0   \n",
       "\n",
       "   PAY_AMT1(X18)  PAY_AMT2(X19)  PAY_AMT3(X20)  PAY_AMT4(X21)  PAY_AMT5(X22)  \\\n",
       "0              0            689              0              0              0   \n",
       "\n",
       "   default_payment_next_month(Y)  \n",
       "0                              1  \n",
       "\n",
       "[1 rows x 24 columns]"
      ]
     },
     "execution_count": 73,
     "metadata": {},
     "output_type": "execute_result"
    }
   ],
   "source": [
    "data.iloc[0:1,0:24]"
   ]
  },
  {
   "cell_type": "code",
   "execution_count": 27,
   "metadata": {
    "collapsed": false
   },
   "outputs": [
    {
     "data": {
      "text/plain": [
       "12825L"
      ]
     },
     "execution_count": 27,
     "metadata": {},
     "output_type": "execute_result"
    }
   ],
   "source": [
    "clf.tree_.capacity"
   ]
  },
  {
   "cell_type": "code",
   "execution_count": 52,
   "metadata": {
    "collapsed": false
   },
   "outputs": [],
   "source": [
    "import pandas as pd\n",
    "data=pd.read_csv(\"D:\\Masters Studies\\Fall 2016\\CS - 548\\Project 2\\Default_Credit_Card - Category.csv\",sep=\",\")\n",
    "data.head()\n",
    "data=data[[u'LIMIT_BAL(X1)', u'SEX(X2)', u'EDUCATION(X3)', u'MARRIAGE(X4)',\n",
    "        u'PAY_1(X6)', u'PAY_2(X7)', u'PAY_3(X8)', u'PAY_4(X9)',\n",
    "       u'PAY_5(X10)', u'PAY_6(X11)', u'BILL_AMT1(X12)', u'BILL_AMT2(X13)',\n",
    "       u'BILL_AMT3(X14)', u'BILL_AMT4(X15)', u'BILL_AMT5(X16)',\n",
    "       u'BILL_AMT6(X17)', u'PAY_AMT2(X19)', u'PAY_AMT3(X20)',\n",
    "       u'PAY_AMT4(X21)', u'PAY_AMT5(X22)', u'PAY_AMT6(X23)',\n",
    "       u'default_payment_next_month(Y)',u'PAY_AMT1(X18)']]\n",
    "data['default_payment_next_month(Y)']=data['default_payment_next_month(Y)'].replace(['Yes'],1)\n",
    "data['default_payment_next_month(Y)']=data['default_payment_next_month(Y)'].replace(['No'],0)"
   ]
  },
  {
   "cell_type": "code",
   "execution_count": 42,
   "metadata": {
    "collapsed": false
   },
   "outputs": [
    {
     "data": {
      "text/html": [
       "<div>\n",
       "<table border=\"1\" class=\"dataframe\">\n",
       "  <thead>\n",
       "    <tr style=\"text-align: right;\">\n",
       "      <th></th>\n",
       "      <th>LIMIT_BAL(X1)</th>\n",
       "      <th>SEX(X2)</th>\n",
       "      <th>EDUCATION(X3)</th>\n",
       "      <th>MARRIAGE(X4)</th>\n",
       "      <th>PAY_1(X6)</th>\n",
       "      <th>PAY_2(X7)</th>\n",
       "      <th>PAY_3(X8)</th>\n",
       "      <th>PAY_4(X9)</th>\n",
       "      <th>PAY_5(X10)</th>\n",
       "      <th>PAY_6(X11)</th>\n",
       "      <th>...</th>\n",
       "      <th>BILL_AMT4(X15)</th>\n",
       "      <th>BILL_AMT5(X16)</th>\n",
       "      <th>BILL_AMT6(X17)</th>\n",
       "      <th>PAY_AMT2(X19)</th>\n",
       "      <th>PAY_AMT3(X20)</th>\n",
       "      <th>PAY_AMT4(X21)</th>\n",
       "      <th>PAY_AMT5(X22)</th>\n",
       "      <th>PAY_AMT6(X23)</th>\n",
       "      <th>default_payment_next_month(Y)</th>\n",
       "      <th>PAY_AMT1(X18)</th>\n",
       "    </tr>\n",
       "  </thead>\n",
       "  <tbody>\n",
       "    <tr>\n",
       "      <th>0</th>\n",
       "      <td>20000</td>\n",
       "      <td>2</td>\n",
       "      <td>2</td>\n",
       "      <td>1</td>\n",
       "      <td>2</td>\n",
       "      <td>2</td>\n",
       "      <td>-1</td>\n",
       "      <td>-1</td>\n",
       "      <td>-2</td>\n",
       "      <td>-2</td>\n",
       "      <td>...</td>\n",
       "      <td>0</td>\n",
       "      <td>0</td>\n",
       "      <td>0</td>\n",
       "      <td>689</td>\n",
       "      <td>0</td>\n",
       "      <td>0</td>\n",
       "      <td>0</td>\n",
       "      <td>0</td>\n",
       "      <td>1</td>\n",
       "      <td>0</td>\n",
       "    </tr>\n",
       "  </tbody>\n",
       "</table>\n",
       "<p>1 rows × 23 columns</p>\n",
       "</div>"
      ],
      "text/plain": [
       "   LIMIT_BAL(X1)  SEX(X2)  EDUCATION(X3)  MARRIAGE(X4)  PAY_1(X6)  PAY_2(X7)  \\\n",
       "0          20000        2              2             1          2          2   \n",
       "\n",
       "   PAY_3(X8)  PAY_4(X9)  PAY_5(X10)  PAY_6(X11)      ...        \\\n",
       "0         -1         -1          -2          -2      ...         \n",
       "\n",
       "   BILL_AMT4(X15)  BILL_AMT5(X16)  BILL_AMT6(X17)  PAY_AMT2(X19)  \\\n",
       "0               0               0               0            689   \n",
       "\n",
       "   PAY_AMT3(X20)  PAY_AMT4(X21)  PAY_AMT5(X22)  PAY_AMT6(X23)  \\\n",
       "0              0              0              0              0   \n",
       "\n",
       "   default_payment_next_month(Y)  PAY_AMT1(X18)  \n",
       "0                              1              0  \n",
       "\n",
       "[1 rows x 23 columns]"
      ]
     },
     "execution_count": 42,
     "metadata": {},
     "output_type": "execute_result"
    }
   ],
   "source": [
    "data.iloc[0:1,0:23]"
   ]
  },
  {
   "cell_type": "code",
   "execution_count": 53,
   "metadata": {
    "collapsed": false
   },
   "outputs": [
    {
     "name": "stdout",
     "output_type": "stream",
     "text": [
      "('Scr=', 0.55493506405577864)\n",
      "('Rootme=', 10729.815508468577)\n",
      "--- 35.2230000496 seconds ---\n"
     ]
    }
   ],
   "source": [
    "from sklearn.model_selection import KFold, cross_val_score\n",
    "from sklearn import tree\n",
    "from sklearn.metrics import mean_squared_error as ms\n",
    "from math import sqrt\n",
    "import time\n",
    "start_time = time.time()\n",
    "k_fold = KFold(n_splits=10)\n",
    "clf = tree.DecisionTreeRegressor(min_samples_leaf=3,presort=True)\n",
    "scr=[]\n",
    "rootme=[]\n",
    "for traindata, testdata in k_fold.split(data):\n",
    "    clf.fit(data.iloc[traindata,0:22],data.iloc[traindata,22])\n",
    "    scr.append(clf.score(data.iloc[testdata,0:22],data.iloc[testdata,22]))\n",
    "    predicted=clf.predict(data.iloc[testdata,0:22])\n",
    "    rootme.append(sqrt(ms(data.iloc[testdata,22],predicted)))\n",
    "print('Scr=',sum(scr)/10)\n",
    "print('Rootme=',sum(rootme)/10)\n",
    "print(\"--- %s seconds ---\" % (time.time() - start_time))"
   ]
  },
  {
   "cell_type": "code",
   "execution_count": 36,
   "metadata": {
    "collapsed": false
   },
   "outputs": [
    {
     "data": {
      "text/html": [
       "<div>\n",
       "<table border=\"1\" class=\"dataframe\">\n",
       "  <thead>\n",
       "    <tr style=\"text-align: right;\">\n",
       "      <th></th>\n",
       "      <th>LIMIT_BAL(X1)</th>\n",
       "      <th>SEX(X2)</th>\n",
       "      <th>EDUCATION(X3)</th>\n",
       "      <th>MARRIAGE(X4)</th>\n",
       "      <th>PAY_1(X6)</th>\n",
       "      <th>PAY_2(X7)</th>\n",
       "      <th>PAY_3(X8)</th>\n",
       "      <th>PAY_4(X9)</th>\n",
       "      <th>PAY_5(X10)</th>\n",
       "      <th>PAY_6(X11)</th>\n",
       "      <th>...</th>\n",
       "      <th>BILL_AMT4(X15)</th>\n",
       "      <th>BILL_AMT5(X16)</th>\n",
       "      <th>BILL_AMT6(X17)</th>\n",
       "      <th>PAY_AMT2(X19)</th>\n",
       "      <th>PAY_AMT3(X20)</th>\n",
       "      <th>PAY_AMT4(X21)</th>\n",
       "      <th>PAY_AMT5(X22)</th>\n",
       "      <th>PAY_AMT6(X23)</th>\n",
       "      <th>default_payment_next_month(Y)</th>\n",
       "      <th>PAY_AMT1(X18)</th>\n",
       "    </tr>\n",
       "  </thead>\n",
       "  <tbody>\n",
       "    <tr>\n",
       "      <th>0</th>\n",
       "      <td>20000</td>\n",
       "      <td>2</td>\n",
       "      <td>2</td>\n",
       "      <td>1</td>\n",
       "      <td>2</td>\n",
       "      <td>2</td>\n",
       "      <td>-1</td>\n",
       "      <td>-1</td>\n",
       "      <td>-2</td>\n",
       "      <td>-2</td>\n",
       "      <td>...</td>\n",
       "      <td>0</td>\n",
       "      <td>0</td>\n",
       "      <td>0</td>\n",
       "      <td>689</td>\n",
       "      <td>0</td>\n",
       "      <td>0</td>\n",
       "      <td>0</td>\n",
       "      <td>0</td>\n",
       "      <td>Yes</td>\n",
       "      <td>0</td>\n",
       "    </tr>\n",
       "  </tbody>\n",
       "</table>\n",
       "<p>1 rows × 23 columns</p>\n",
       "</div>"
      ],
      "text/plain": [
       "   LIMIT_BAL(X1)  SEX(X2)  EDUCATION(X3)  MARRIAGE(X4)  PAY_1(X6)  PAY_2(X7)  \\\n",
       "0          20000        2              2             1          2          2   \n",
       "\n",
       "   PAY_3(X8)  PAY_4(X9)  PAY_5(X10)  PAY_6(X11)      ...        \\\n",
       "0         -1         -1          -2          -2      ...         \n",
       "\n",
       "   BILL_AMT4(X15)  BILL_AMT5(X16)  BILL_AMT6(X17)  PAY_AMT2(X19)  \\\n",
       "0               0               0               0            689   \n",
       "\n",
       "   PAY_AMT3(X20)  PAY_AMT4(X21)  PAY_AMT5(X22)  PAY_AMT6(X23)  \\\n",
       "0              0              0              0              0   \n",
       "\n",
       "   default_payment_next_month(Y)  PAY_AMT1(X18)  \n",
       "0                            Yes              0  \n",
       "\n",
       "[1 rows x 23 columns]"
      ]
     },
     "execution_count": 36,
     "metadata": {},
     "output_type": "execute_result"
    }
   ],
   "source": []
  },
  {
   "cell_type": "code",
   "execution_count": 75,
   "metadata": {
    "collapsed": true
   },
   "outputs": [],
   "source": [
    "import pandas as pd\n",
    "data=pd.read_csv(\"D:\\Masters Studies\\Fall 2016\\CS - 548\\Project 2\\Default_Credit_Card - Category.csv\",sep=\",\")\n",
    "data.head()\n",
    "data=data[[u'ID', u'LIMIT_BAL(X1)', u'SEX(X2)', u'EDUCATION(X3)', u'MARRIAGE(X4)',\n",
    "       u'AGE(X5)', u'PAY_1(X6)', u'PAY_2(X7)', u'PAY_3(X8)', u'PAY_4(X9)',\n",
    "       u'PAY_5(X10)', u'PAY_6(X11)', u'BILL_AMT1(X12)', u'BILL_AMT2(X13)',\n",
    "       u'BILL_AMT3(X14)', u'BILL_AMT4(X15)', u'BILL_AMT5(X16)',\n",
    "       u'BILL_AMT6(X17)',u'PAY_AMT1(X18)', u'PAY_AMT2(X19)', u'PAY_AMT3(X20)',\n",
    "       u'PAY_AMT4(X21)', u'PAY_AMT5(X22)',\n",
    "       u'default_payment_next_month(Y)', u'PAY_AMT6(X23)']]\n",
    "data['EDUCATION(X3)']=data['EDUCATION(X3)'].replace([0,4,5,6],4)\n",
    "data['default_payment_next_month(Y)']=data['default_payment_next_month(Y)'].replace(['Yes'],1)\n",
    "data['default_payment_next_month(Y)']=data['default_payment_next_month(Y)'].replace(['No'],0)\n"
   ]
  },
  {
   "cell_type": "code",
   "execution_count": 76,
   "metadata": {
    "collapsed": false
   },
   "outputs": [
    {
     "name": "stdout",
     "output_type": "stream",
     "text": [
      "('Scr=', 0.12794008994771713)\n",
      "('Rootme=', 16437.65416682735)\n",
      "[18219.42582814131, 16716.7594243768, 16492.79680932035, 16198.700409439265, 18460.703250827104, 12902.431235699689, 13874.970847793064, 16894.447206565455, 15681.917350067597, 18934.389306042867]\n",
      "--- 0.443000078201 seconds ---\n"
     ]
    }
   ],
   "source": [
    "from sklearn.model_selection import KFold, cross_val_score\n",
    "from sklearn import linear_model\n",
    "from sklearn.metrics import mean_squared_error as ms\n",
    "from math import sqrt\n",
    "import time\n",
    "start_time = time.time()\n",
    "k_fold = KFold(n_splits=10)\n",
    "regr = linear_model.LinearRegression(normalize=True)\n",
    "scr=[]\n",
    "rootme=[]\n",
    "for traindata, testdata in k_fold.split(data):\n",
    "    regr.fit(data.iloc[traindata,0:24],data.iloc[traindata,24])\n",
    "    scr.append(regr.score(data.iloc[testdata,0:24],data.iloc[testdata,24]))\n",
    "    predicted=regr.predict(data.iloc[testdata,0:24])\n",
    "    rootme.append(sqrt(ms(data.iloc[testdata,24],predicted)))\n",
    "print('Scr=',sum(scr)/10)\n",
    "print('Rootme=',sum(rootme)/10)\n",
    "print(rootme)\n",
    "print(\"--- %s seconds ---\" % (time.time() - start_time))"
   ]
  },
  {
   "cell_type": "code",
   "execution_count": 214,
   "metadata": {
    "collapsed": false
   },
   "outputs": [],
   "source": [
    "#Guiding 1\n",
    "\n",
    "import pandas as pd\n",
    "data=pd.read_csv(\"D:\\Masters Studies\\Fall 2016\\CS - 548\\Project 2\\default of credit card clients_edit.csv\",sep=\",\")\n",
    "data.head()\n",
    "data=data[[u'LIMIT_BAL', u'SEX', u'EDUCATION', u'MARRIAGE', u'AGE',\n",
    "       u'PAY_0', u'PAY_2', u'PAY_3', u'PAY_4', u'PAY_5', u'PAY_6',\n",
    "       u'Count of missed payments', u'BILL_AMT1', u'BILL_AMT2', u'BILL_AMT3',\n",
    "       u'BILL_AMT4', u'BILL_AMT5', u'BILL_AMT6', u'TOTAL_BILL', \n",
    "       u'PAY_AMT2', u'PAY_AMT3', u'PAY_AMT4', u'PAY_AMT5',\n",
    "       u'PAY_AMT6', u'default payment next month',u'PAY_AMT1']]\n",
    "data['default payment next month']=data['default payment next month'].replace(['Yes'],1)\n",
    "data['default payment next month']=data['default payment next month'].replace(['No'],0)\n",
    "\n"
   ]
  },
  {
   "cell_type": "code",
   "execution_count": 82,
   "metadata": {
    "collapsed": false
   },
   "outputs": [
    {
     "data": {
      "text/plain": [
       "Index([u'ID', u'LIMIT_BAL', u'SEX', u'EDUCATION', u'MARRIAGE', u'AGE',\n",
       "       u'PAY_0', u'PAY_2', u'PAY_3', u'PAY_4', u'PAY_5', u'PAY_6',\n",
       "       u'Count of missed payments', u'BILL_AMT1', u'BILL_AMT2', u'BILL_AMT3',\n",
       "       u'BILL_AMT4', u'BILL_AMT5', u'BILL_AMT6', u'TOTAL_BILL', u'PAY_AMT1',\n",
       "       u'PAY_AMT2', u'PAY_AMT3', u'PAY_AMT4', u'PAY_AMT5', u'TOTAL_PAID',\n",
       "       u'PAY_AMT6', u'Difference', u'default payment next month'],\n",
       "      dtype='object')"
      ]
     },
     "execution_count": 82,
     "metadata": {},
     "output_type": "execute_result"
    }
   ],
   "source": [
    "data.columns"
   ]
  },
  {
   "cell_type": "code",
   "execution_count": 176,
   "metadata": {
    "collapsed": false
   },
   "outputs": [],
   "source": [
    "predict=[]\n",
    "for x in range(0,len(prediction)):\n",
    "    for y in range(0,3000):\n",
    "        predict.append(prediction[x][y])"
   ]
  },
  {
   "cell_type": "code",
   "execution_count": 184,
   "metadata": {
    "collapsed": false
   },
   "outputs": [],
   "source": [
    "\n",
    "import matplotlib.pyplot as plt\n",
    "plt.scatter(xaxis, data.iloc[:,25], alpha=0.5)\n",
    "plt.title(\"Actual X18 Values\")\n",
    "\n",
    "plt.show()"
   ]
  },
  {
   "cell_type": "code",
   "execution_count": 186,
   "metadata": {
    "collapsed": false
   },
   "outputs": [
    {
     "data": {
      "text/plain": [
       "Index([u'ID', u'LIMIT_BAL(X1)', u'SEX(X2)', u'EDUCATION(X3)', u'MARRIAGE(X4)',\n",
       "       u'AGE(X5)', u'PAY_1(X6)', u'PAY_2(X7)', u'PAY_3(X8)', u'PAY_4(X9)',\n",
       "       u'PAY_5(X10)', u'PAY_6(X11)', u'BILL_AMT1(X12)', u'BILL_AMT2(X13)',\n",
       "       u'BILL_AMT3(X14)', u'BILL_AMT4(X15)', u'BILL_AMT5(X16)',\n",
       "       u'BILL_AMT6(X17)', u'PAY_AMT1(X18)', u'PAY_AMT2(X19)', u'PAY_AMT3(X20)',\n",
       "       u'PAY_AMT4(X21)', u'PAY_AMT5(X22)', u'PAY_AMT6(X23)',\n",
       "       u'default_payment_next_month(Y)'],\n",
       "      dtype='object')"
      ]
     },
     "execution_count": 186,
     "metadata": {},
     "output_type": "execute_result"
    }
   ],
   "source": [
    "data.columns"
   ]
  },
  {
   "cell_type": "code",
   "execution_count": 177,
   "metadata": {
    "collapsed": false
   },
   "outputs": [],
   "source": [
    "xaxis=[]\n",
    "for y in range(1,30001):\n",
    "    xaxis.append(y)"
   ]
  },
  {
   "cell_type": "code",
   "execution_count": 215,
   "metadata": {
    "collapsed": false
   },
   "outputs": [
    {
     "name": "stdout",
     "output_type": "stream",
     "text": [
      "('Scr=', 0.3528341315453053)\n",
      "('Rootme=', 12896.303499296668)\n",
      "[0.32948625009574783, 0.38736341415995323, 0.33801410548698413, 0.34533692909330482, 0.36777622096734908, 0.3442050418855177, 0.24842709674109242, 0.31811259516686308, 0.36963753272474842, 0.4799821291314923]\n",
      "--- 0.496999979019 seconds ---\n"
     ]
    }
   ],
   "source": [
    "from sklearn.model_selection import KFold, cross_val_score\n",
    "from sklearn import linear_model\n",
    "from sklearn.metrics import mean_squared_error as ms\n",
    "from math import sqrt\n",
    "import time\n",
    "start_time = time.time()\n",
    "k_fold = KFold(n_splits=10)\n",
    "regr = linear_model.LinearRegression(normalize=True)\n",
    "scr=[]\n",
    "rootme=[]\n",
    "prediction=[]\n",
    "for traindata, testdata in k_fold.split(data):\n",
    "    regr.fit(data.iloc[traindata,0:25],data.iloc[traindata,25])\n",
    "    scr.append(regr.score(data.iloc[testdata,0:25],data.iloc[testdata,25]))\n",
    "    predicted=regr.predict(data.iloc[testdata,0:25])\n",
    "    prediction.append(predicted)\n",
    "    rootme.append(sqrt(ms(data.iloc[testdata,25],predicted)))\n",
    "print('Scr=',sum(scr)/10)\n",
    "print('Rootme=',sum(rootme)/10)\n",
    "print(scr)\n",
    "print(\"--- %s seconds ---\" % (time.time() - start_time))"
   ]
  },
  {
   "cell_type": "code",
   "execution_count": null,
   "metadata": {
    "collapsed": true
   },
   "outputs": [],
   "source": [
    "regr."
   ]
  },
  {
   "cell_type": "code",
   "execution_count": 115,
   "metadata": {
    "collapsed": false
   },
   "outputs": [
    {
     "data": {
      "text/html": [
       "<div>\n",
       "<table border=\"1\" class=\"dataframe\">\n",
       "  <thead>\n",
       "    <tr style=\"text-align: right;\">\n",
       "      <th></th>\n",
       "      <th>LIMIT_BAL</th>\n",
       "      <th>SEX</th>\n",
       "      <th>EDUCATION</th>\n",
       "      <th>MARRIAGE</th>\n",
       "      <th>AGE</th>\n",
       "      <th>PAY_0</th>\n",
       "      <th>PAY_2</th>\n",
       "      <th>PAY_3</th>\n",
       "      <th>PAY_4</th>\n",
       "      <th>PAY_5</th>\n",
       "      <th>...</th>\n",
       "      <th>Sex_2</th>\n",
       "      <th>EDUCATION_1</th>\n",
       "      <th>EDUCATION_2</th>\n",
       "      <th>EDUCATION_3</th>\n",
       "      <th>EDUCATION_4</th>\n",
       "      <th>EDUCATION_5</th>\n",
       "      <th>EDUCATION_6</th>\n",
       "      <th>MARRIAGE_1</th>\n",
       "      <th>MARRIAGE_2</th>\n",
       "      <th>MARRIAGE_3</th>\n",
       "    </tr>\n",
       "  </thead>\n",
       "  <tbody>\n",
       "    <tr>\n",
       "      <th>0</th>\n",
       "      <td>20000</td>\n",
       "      <td>2</td>\n",
       "      <td>2</td>\n",
       "      <td>1</td>\n",
       "      <td>24</td>\n",
       "      <td>2</td>\n",
       "      <td>2</td>\n",
       "      <td>-1</td>\n",
       "      <td>-1</td>\n",
       "      <td>-2</td>\n",
       "      <td>...</td>\n",
       "      <td>1.0</td>\n",
       "      <td>0.0</td>\n",
       "      <td>1.0</td>\n",
       "      <td>0.0</td>\n",
       "      <td>0.0</td>\n",
       "      <td>0.0</td>\n",
       "      <td>0.0</td>\n",
       "      <td>1.0</td>\n",
       "      <td>0.0</td>\n",
       "      <td>0.0</td>\n",
       "    </tr>\n",
       "    <tr>\n",
       "      <th>1</th>\n",
       "      <td>120000</td>\n",
       "      <td>2</td>\n",
       "      <td>2</td>\n",
       "      <td>2</td>\n",
       "      <td>26</td>\n",
       "      <td>-1</td>\n",
       "      <td>2</td>\n",
       "      <td>0</td>\n",
       "      <td>0</td>\n",
       "      <td>0</td>\n",
       "      <td>...</td>\n",
       "      <td>1.0</td>\n",
       "      <td>0.0</td>\n",
       "      <td>1.0</td>\n",
       "      <td>0.0</td>\n",
       "      <td>0.0</td>\n",
       "      <td>0.0</td>\n",
       "      <td>0.0</td>\n",
       "      <td>0.0</td>\n",
       "      <td>1.0</td>\n",
       "      <td>0.0</td>\n",
       "    </tr>\n",
       "    <tr>\n",
       "      <th>2</th>\n",
       "      <td>90000</td>\n",
       "      <td>2</td>\n",
       "      <td>2</td>\n",
       "      <td>2</td>\n",
       "      <td>34</td>\n",
       "      <td>0</td>\n",
       "      <td>0</td>\n",
       "      <td>0</td>\n",
       "      <td>0</td>\n",
       "      <td>0</td>\n",
       "      <td>...</td>\n",
       "      <td>1.0</td>\n",
       "      <td>0.0</td>\n",
       "      <td>1.0</td>\n",
       "      <td>0.0</td>\n",
       "      <td>0.0</td>\n",
       "      <td>0.0</td>\n",
       "      <td>0.0</td>\n",
       "      <td>0.0</td>\n",
       "      <td>1.0</td>\n",
       "      <td>0.0</td>\n",
       "    </tr>\n",
       "    <tr>\n",
       "      <th>3</th>\n",
       "      <td>50000</td>\n",
       "      <td>2</td>\n",
       "      <td>2</td>\n",
       "      <td>1</td>\n",
       "      <td>37</td>\n",
       "      <td>0</td>\n",
       "      <td>0</td>\n",
       "      <td>0</td>\n",
       "      <td>0</td>\n",
       "      <td>0</td>\n",
       "      <td>...</td>\n",
       "      <td>1.0</td>\n",
       "      <td>0.0</td>\n",
       "      <td>1.0</td>\n",
       "      <td>0.0</td>\n",
       "      <td>0.0</td>\n",
       "      <td>0.0</td>\n",
       "      <td>0.0</td>\n",
       "      <td>1.0</td>\n",
       "      <td>0.0</td>\n",
       "      <td>0.0</td>\n",
       "    </tr>\n",
       "    <tr>\n",
       "      <th>4</th>\n",
       "      <td>50000</td>\n",
       "      <td>1</td>\n",
       "      <td>2</td>\n",
       "      <td>1</td>\n",
       "      <td>57</td>\n",
       "      <td>-1</td>\n",
       "      <td>0</td>\n",
       "      <td>-1</td>\n",
       "      <td>0</td>\n",
       "      <td>0</td>\n",
       "      <td>...</td>\n",
       "      <td>0.0</td>\n",
       "      <td>0.0</td>\n",
       "      <td>1.0</td>\n",
       "      <td>0.0</td>\n",
       "      <td>0.0</td>\n",
       "      <td>0.0</td>\n",
       "      <td>0.0</td>\n",
       "      <td>1.0</td>\n",
       "      <td>0.0</td>\n",
       "      <td>0.0</td>\n",
       "    </tr>\n",
       "  </tbody>\n",
       "</table>\n",
       "<p>5 rows × 38 columns</p>\n",
       "</div>"
      ],
      "text/plain": [
       "   LIMIT_BAL  SEX  EDUCATION  MARRIAGE  AGE  PAY_0  PAY_2  PAY_3  PAY_4  \\\n",
       "0      20000    2          2         1   24      2      2     -1     -1   \n",
       "1     120000    2          2         2   26     -1      2      0      0   \n",
       "2      90000    2          2         2   34      0      0      0      0   \n",
       "3      50000    2          2         1   37      0      0      0      0   \n",
       "4      50000    1          2         1   57     -1      0     -1      0   \n",
       "\n",
       "   PAY_5     ...      Sex_2  EDUCATION_1  EDUCATION_2  EDUCATION_3  \\\n",
       "0     -2     ...        1.0          0.0          1.0          0.0   \n",
       "1      0     ...        1.0          0.0          1.0          0.0   \n",
       "2      0     ...        1.0          0.0          1.0          0.0   \n",
       "3      0     ...        1.0          0.0          1.0          0.0   \n",
       "4      0     ...        0.0          0.0          1.0          0.0   \n",
       "\n",
       "   EDUCATION_4  EDUCATION_5  EDUCATION_6  MARRIAGE_1  MARRIAGE_2  MARRIAGE_3  \n",
       "0          0.0          0.0          0.0         1.0         0.0         0.0  \n",
       "1          0.0          0.0          0.0         0.0         1.0         0.0  \n",
       "2          0.0          0.0          0.0         0.0         1.0         0.0  \n",
       "3          0.0          0.0          0.0         1.0         0.0         0.0  \n",
       "4          0.0          0.0          0.0         1.0         0.0         0.0  \n",
       "\n",
       "[5 rows x 38 columns]"
      ]
     },
     "execution_count": 115,
     "metadata": {},
     "output_type": "execute_result"
    }
   ],
   "source": [
    "area_dummies = pd.get_dummies(data.MARRIAGE, prefix='MARRIAGE').iloc[:, 1:]\n",
    "\n",
    "# concatenate the dummy variable columns onto the original DataFrame (axis=0 means rows, axis=1 means columns)\n",
    "data = pd.concat([data, area_dummies], axis=1)\n",
    "data.head()"
   ]
  },
  {
   "cell_type": "code",
   "execution_count": 217,
   "metadata": {
    "collapsed": true
   },
   "outputs": [],
   "source": [
    "import matplotlib.pyplot as plt\n",
    "plt.plot(scr)\n",
    "plt.title(\"Score for each fold Values\")\n",
    "\n",
    "plt.show()"
   ]
  },
  {
   "cell_type": "code",
   "execution_count": 124,
   "metadata": {
    "collapsed": false
   },
   "outputs": [],
   "source": [
    "data=data[[ u'BILL_AMT2', u'TOTAL_PAID',u'PAY_AMT1']]"
   ]
  },
  {
   "cell_type": "code",
   "execution_count": 195,
   "metadata": {
    "collapsed": false
   },
   "outputs": [
    {
     "data": {
      "text/html": [
       "<div>\n",
       "<table border=\"1\" class=\"dataframe\">\n",
       "  <thead>\n",
       "    <tr style=\"text-align: right;\">\n",
       "      <th></th>\n",
       "      <th>ID</th>\n",
       "      <th>LIMIT_BAL(X1)</th>\n",
       "      <th>PAY_1(X6)</th>\n",
       "      <th>PAY_2(X7)</th>\n",
       "      <th>PAY_3(X8)</th>\n",
       "      <th>PAY_4(X9)</th>\n",
       "      <th>PAY_5(X10)</th>\n",
       "      <th>PAY_6(X11)</th>\n",
       "      <th>BILL_AMT1(X12)</th>\n",
       "      <th>BILL_AMT2(X13)</th>\n",
       "      <th>...</th>\n",
       "      <th>BILL_AMT4(X15)</th>\n",
       "      <th>BILL_AMT5(X16)</th>\n",
       "      <th>BILL_AMT6(X17)</th>\n",
       "      <th>PAY_AMT2(X19)</th>\n",
       "      <th>PAY_AMT3(X20)</th>\n",
       "      <th>PAY_AMT4(X21)</th>\n",
       "      <th>PAY_AMT5(X22)</th>\n",
       "      <th>PAY_AMT6(X23)</th>\n",
       "      <th>default_payment_next_month(Y)</th>\n",
       "      <th>PAY_AMT1(X18)</th>\n",
       "    </tr>\n",
       "  </thead>\n",
       "  <tbody>\n",
       "    <tr>\n",
       "      <th>0</th>\n",
       "      <td>1</td>\n",
       "      <td>20000</td>\n",
       "      <td>2</td>\n",
       "      <td>2</td>\n",
       "      <td>-1</td>\n",
       "      <td>-1</td>\n",
       "      <td>-2</td>\n",
       "      <td>-2</td>\n",
       "      <td>3913</td>\n",
       "      <td>3102</td>\n",
       "      <td>...</td>\n",
       "      <td>0</td>\n",
       "      <td>0</td>\n",
       "      <td>0</td>\n",
       "      <td>689</td>\n",
       "      <td>0</td>\n",
       "      <td>0</td>\n",
       "      <td>0</td>\n",
       "      <td>0</td>\n",
       "      <td>1</td>\n",
       "      <td>0</td>\n",
       "    </tr>\n",
       "    <tr>\n",
       "      <th>1</th>\n",
       "      <td>2</td>\n",
       "      <td>120000</td>\n",
       "      <td>-1</td>\n",
       "      <td>2</td>\n",
       "      <td>0</td>\n",
       "      <td>0</td>\n",
       "      <td>0</td>\n",
       "      <td>2</td>\n",
       "      <td>2682</td>\n",
       "      <td>1725</td>\n",
       "      <td>...</td>\n",
       "      <td>3272</td>\n",
       "      <td>3455</td>\n",
       "      <td>3261</td>\n",
       "      <td>1000</td>\n",
       "      <td>1000</td>\n",
       "      <td>1000</td>\n",
       "      <td>0</td>\n",
       "      <td>2000</td>\n",
       "      <td>1</td>\n",
       "      <td>0</td>\n",
       "    </tr>\n",
       "    <tr>\n",
       "      <th>2</th>\n",
       "      <td>3</td>\n",
       "      <td>90000</td>\n",
       "      <td>0</td>\n",
       "      <td>0</td>\n",
       "      <td>0</td>\n",
       "      <td>0</td>\n",
       "      <td>0</td>\n",
       "      <td>0</td>\n",
       "      <td>29239</td>\n",
       "      <td>14027</td>\n",
       "      <td>...</td>\n",
       "      <td>14331</td>\n",
       "      <td>14948</td>\n",
       "      <td>15549</td>\n",
       "      <td>1500</td>\n",
       "      <td>1000</td>\n",
       "      <td>1000</td>\n",
       "      <td>1000</td>\n",
       "      <td>5000</td>\n",
       "      <td>0</td>\n",
       "      <td>1518</td>\n",
       "    </tr>\n",
       "    <tr>\n",
       "      <th>3</th>\n",
       "      <td>4</td>\n",
       "      <td>50000</td>\n",
       "      <td>0</td>\n",
       "      <td>0</td>\n",
       "      <td>0</td>\n",
       "      <td>0</td>\n",
       "      <td>0</td>\n",
       "      <td>0</td>\n",
       "      <td>46990</td>\n",
       "      <td>48233</td>\n",
       "      <td>...</td>\n",
       "      <td>28314</td>\n",
       "      <td>28959</td>\n",
       "      <td>29547</td>\n",
       "      <td>2019</td>\n",
       "      <td>1200</td>\n",
       "      <td>1100</td>\n",
       "      <td>1069</td>\n",
       "      <td>1000</td>\n",
       "      <td>0</td>\n",
       "      <td>2000</td>\n",
       "    </tr>\n",
       "    <tr>\n",
       "      <th>4</th>\n",
       "      <td>5</td>\n",
       "      <td>50000</td>\n",
       "      <td>-1</td>\n",
       "      <td>0</td>\n",
       "      <td>-1</td>\n",
       "      <td>0</td>\n",
       "      <td>0</td>\n",
       "      <td>0</td>\n",
       "      <td>8617</td>\n",
       "      <td>5670</td>\n",
       "      <td>...</td>\n",
       "      <td>20940</td>\n",
       "      <td>19146</td>\n",
       "      <td>19131</td>\n",
       "      <td>36681</td>\n",
       "      <td>10000</td>\n",
       "      <td>9000</td>\n",
       "      <td>689</td>\n",
       "      <td>679</td>\n",
       "      <td>0</td>\n",
       "      <td>2000</td>\n",
       "    </tr>\n",
       "  </tbody>\n",
       "</table>\n",
       "<p>5 rows × 21 columns</p>\n",
       "</div>"
      ],
      "text/plain": [
       "   ID  LIMIT_BAL(X1)  PAY_1(X6)  PAY_2(X7)  PAY_3(X8)  PAY_4(X9)  PAY_5(X10)  \\\n",
       "0   1          20000          2          2         -1         -1          -2   \n",
       "1   2         120000         -1          2          0          0           0   \n",
       "2   3          90000          0          0          0          0           0   \n",
       "3   4          50000          0          0          0          0           0   \n",
       "4   5          50000         -1          0         -1          0           0   \n",
       "\n",
       "   PAY_6(X11)  BILL_AMT1(X12)  BILL_AMT2(X13)      ...        BILL_AMT4(X15)  \\\n",
       "0          -2            3913            3102      ...                     0   \n",
       "1           2            2682            1725      ...                  3272   \n",
       "2           0           29239           14027      ...                 14331   \n",
       "3           0           46990           48233      ...                 28314   \n",
       "4           0            8617            5670      ...                 20940   \n",
       "\n",
       "   BILL_AMT5(X16)  BILL_AMT6(X17)  PAY_AMT2(X19)  PAY_AMT3(X20)  \\\n",
       "0               0               0            689              0   \n",
       "1            3455            3261           1000           1000   \n",
       "2           14948           15549           1500           1000   \n",
       "3           28959           29547           2019           1200   \n",
       "4           19146           19131          36681          10000   \n",
       "\n",
       "   PAY_AMT4(X21)  PAY_AMT5(X22)  PAY_AMT6(X23)  default_payment_next_month(Y)  \\\n",
       "0              0              0              0                              1   \n",
       "1           1000              0           2000                              1   \n",
       "2           1000           1000           5000                              0   \n",
       "3           1100           1069           1000                              0   \n",
       "4           9000            689            679                              0   \n",
       "\n",
       "   PAY_AMT1(X18)  \n",
       "0              0  \n",
       "1              0  \n",
       "2           1518  \n",
       "3           2000  \n",
       "4           2000  \n",
       "\n",
       "[5 rows x 21 columns]"
      ]
     },
     "execution_count": 195,
     "metadata": {},
     "output_type": "execute_result"
    }
   ],
   "source": [
    "#Socialllllllllllllll\n",
    "\n",
    "import pandas as pd\n",
    "data=pd.read_csv(\"D:\\Masters Studies\\Fall 2016\\CS - 548\\Project 2\\Default_Credit_Card - Category.csv\",sep=\",\")\n",
    "\n",
    "data=data[[u'ID', u'LIMIT_BAL(X1)', u'PAY_1(X6)', u'PAY_2(X7)', u'PAY_3(X8)', u'PAY_4(X9)',\n",
    "       u'PAY_5(X10)', u'PAY_6(X11)', u'BILL_AMT1(X12)', u'BILL_AMT2(X13)',\n",
    "       u'BILL_AMT3(X14)', u'BILL_AMT4(X15)', u'BILL_AMT5(X16)',\n",
    "       u'BILL_AMT6(X17)',  u'PAY_AMT2(X19)', u'PAY_AMT3(X20)',\n",
    "       u'PAY_AMT4(X21)', u'PAY_AMT5(X22)', u'PAY_AMT6(X23)',\n",
    "       u'default_payment_next_month(Y)',u'PAY_AMT1(X18)',]]\n",
    "data['default_payment_next_month(Y)']=data['default_payment_next_month(Y)'].replace(['Yes'],1)\n",
    "data['default_payment_next_month(Y)']=data['default_payment_next_month(Y)'].replace(['No'],0)\n",
    "data.head()"
   ]
  },
  {
   "cell_type": "code",
   "execution_count": 212,
   "metadata": {
    "collapsed": false
   },
   "outputs": [
    {
     "name": "stdout",
     "output_type": "stream",
     "text": [
      "('Scr=', 0.657395888840131)\n",
      "('Rootme=', 9489.191105847447)\n",
      "--- 29.8159999847 seconds ---\n"
     ]
    }
   ],
   "source": [
    "from sklearn.model_selection import KFold, cross_val_score\n",
    "from sklearn import tree\n",
    "from sklearn.metrics import mean_squared_error as ms\n",
    "from math import sqrt\n",
    "import time\n",
    "start_time = time.time()\n",
    "k_fold = KFold(n_splits=10)\n",
    "clf = tree.DecisionTreeRegressor(min_samples_leaf=3,presort=True)\n",
    "scr=[]\n",
    "rootme=[]\n",
    "for traindata, testdata in k_fold.split(data):\n",
    "    clf.fit(data.iloc[traindata,0:19],data.iloc[traindata,19])\n",
    "    scr.append(clf.score(data.iloc[testdata,0:19],data.iloc[testdata,19]))\n",
    "    predicted=clf.predict(data.iloc[testdata,0:19])\n",
    "    rootme.append(sqrt(ms(data.iloc[testdata,19],predicted)))\n",
    "print('Scr=',sum(scr)/10)\n",
    "print('Rootme=',sum(rootme)/10)\n",
    "print(\"--- %s seconds ---\" % (time.time() - start_time))"
   ]
  },
  {
   "cell_type": "code",
   "execution_count": 213,
   "metadata": {
    "collapsed": false
   },
   "outputs": [
    {
     "data": {
      "text/plain": [
       "12925L"
      ]
     },
     "execution_count": 213,
     "metadata": {},
     "output_type": "execute_result"
    }
   ],
   "source": [
    "clf.tree_.capacity\n"
   ]
  },
  {
   "cell_type": "code",
   "execution_count": 207,
   "metadata": {
    "collapsed": true
   },
   "outputs": [],
   "source": [
    "#guiding 2\n",
    "import pandas as pd\n",
    "data=pd.read_csv(\"D:\\Masters Studies\\Fall 2016\\CS - 548\\Project 2\\Default_Credit_Card - Category.csv\",sep=\",\")\n",
    "data=data[[u'ID', u'LIMIT_BAL(X1)', u'SEX(X2)', u'EDUCATION(X3)', u'MARRIAGE(X4)',\n",
    "       u'AGE(X5)', u'PAY_1(X6)', u'PAY_2(X7)', u'PAY_3(X8)', u'PAY_4(X9)',\n",
    "       u'PAY_5(X10)', u'PAY_6(X11)', u'BILL_AMT1(X12)', u'BILL_AMT2(X13)',\n",
    "       u'BILL_AMT3(X14)', u'BILL_AMT4(X15)', u'BILL_AMT5(X16)',\n",
    "       u'BILL_AMT6(X17)','default_payment_next_month(Y)',u'PAY_AMT1(X18)']]\n",
    "data['default_payment_next_month(Y)']=data['default_payment_next_month(Y)'].replace(['Yes'],1)\n",
    "data['default_payment_next_month(Y)']=data['default_payment_next_month(Y)'].replace(['No'],0)"
   ]
  }
 ],
 "metadata": {
  "kernelspec": {
   "display_name": "Python [Root]",
   "language": "python",
   "name": "Python [Root]"
  },
  "language_info": {
   "codemirror_mode": {
    "name": "ipython",
    "version": 2
   },
   "file_extension": ".py",
   "mimetype": "text/x-python",
   "name": "python",
   "nbconvert_exporter": "python",
   "pygments_lexer": "ipython2",
   "version": "2.7.12"
  }
 },
 "nbformat": 4,
 "nbformat_minor": 0
}

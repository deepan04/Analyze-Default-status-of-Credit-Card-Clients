{
 "cells": [
  {
   "cell_type": "code",
   "execution_count": 1,
   "metadata": {
    "collapsed": false
   },
   "outputs": [
    {
     "name": "stdout",
     "output_type": "stream",
     "text": [
      "77.88\n",
      "--- 0.00399994850159 seconds ---\n"
     ]
    }
   ],
   "source": [
    "#ZeroR\n",
    "\n",
    "import pandas as pd\n",
    "import time\n",
    "data=pd.read_csv(\"D:\\Masters Studies\\Fall 2016\\CS - 548\\Project 2\\Default_Credit_Card - Category.csv\",sep=\",\")\n",
    "start_time = time.time()\n",
    "count=data.iloc[:,24].value_counts()\n",
    "count[0]\n",
    "accuracy=float(count[0])/30000*100\n",
    "print accuracy\n",
    "print(\"--- %s seconds ---\" % (time.time() - start_time))"
   ]
  },
  {
   "cell_type": "code",
   "execution_count": 16,
   "metadata": {
    "collapsed": false
   },
   "outputs": [
    {
     "name": "stdout",
     "output_type": "stream",
     "text": [
      "('precision=', 0.80324489624953765)\n",
      "('scr=', 0.8196)\n",
      "('score=', 0.8196)\n",
      "--- 10.3109998703 seconds ---\n"
     ]
    }
   ],
   "source": [
    "#OneR Guide 1\n",
    "\n",
    "from sklearn.model_selection import KFold, cross_val_score\n",
    "from sklearn import tree\n",
    "from sklearn.metrics import precision_score\n",
    "from sklearn.metrics import roc_auc_score\n",
    "from sklearn.metrics import confusion_matrix\n",
    "start_time = time.time()\n",
    "k_fold = KFold(n_splits=10)\n",
    "clf = tree.DecisionTreeClassifier(criterion='entropy',max_depth=1)\n",
    "scr=[]\n",
    "prediction=[]\n",
    "precision=[]\n",
    "roc=[]\n",
    "score=[]\n",
    "probability=[]\n",
    "confusion=[]\n",
    "for i in range(0,len(data)):\n",
    "    if data.iloc[i,6]<1:\n",
    "        data.iloc[i,6]==1\n",
    "    else:\n",
    "        data.iloc[i,6]==2\n",
    "for traindata, testdata in k_fold.split(data):\n",
    "    clf.fit(data.iloc[traindata,1:24],data.iloc[traindata,24])\n",
    "    x=clf.predict(data.iloc[testdata,1:24])\n",
    "    prediction.append(x)\n",
    "    score.append(clf.score(data.iloc[testdata,1:24],data.iloc[testdata,24]))\n",
    "    probability.append(clf.predict_proba(data.iloc[testdata,1:24]))\n",
    "    precision.append(precision_score(data.iloc[testdata,24],x,average='weighted'))\n",
    "    scr.append(clf.score(data.iloc[testdata,1:24],data.iloc[testdata,24]))\n",
    "    confusion.append(confusion_matrix(data.iloc[testdata,24], x))\n",
    "probability \n",
    "from sklearn import tree\n",
    "with open(\"D:/Masters Studies/Fall 2016/CS - 548/Project 2/Python Decision Tree/tree.dot\", 'w') as f:\n",
    "     f = tree.export_graphviz(clf, out_file=f,feature_names=data.columns[1:23],class_names=['no','yes'])\n",
    "clf.feature_importances_\n",
    "tree=clf.tree_\n",
    "tree.capacity\n",
    "sumconfusion=sum(confusion)\n",
    "print('precision=' , (sum(precision)/10))\n",
    "print('scr=' , (sum(scr)/10))\n",
    "print('score=',(sum(score)/10))\n",
    "print(\"--- %s seconds ---\" % (time.time() - start_time))"
   ]
  },
  {
   "cell_type": "code",
   "execution_count": 3,
   "metadata": {
    "collapsed": false
   },
   "outputs": [],
   "source": [
    "correlation=data.corr()"
   ]
  },
  {
   "cell_type": "code",
   "execution_count": 4,
   "metadata": {
    "collapsed": true
   },
   "outputs": [],
   "source": [
    "import matplotlib.pyplot as plt\n",
    "import seaborn as sns\n",
    "ax = sns.heatmap(correlation,vmin=-1,vmax=1)\n",
    "plt.xticks(fontsize=15)\n",
    "plt.yticks(fontsize=15)\n",
    "for x in ax.get_xticklabels():\n",
    "    x.set_rotation(90)\n",
    "for x in ax.get_yticklabels():\n",
    "    x.set_rotation(0)\n",
    "plt.show()"
   ]
  },
  {
   "cell_type": "code",
   "execution_count": null,
   "metadata": {
    "collapsed": true
   },
   "outputs": [],
   "source": [
    "#J4.8 Guide1\n",
    "import pandas as pd\n",
    "from sklearn.model_selection import KFold, cross_val_score\n",
    "from sklearn import tree\n",
    "from sklearn.metrics import precision_score\n",
    "from sklearn.metrics import roc_auc_score\n",
    "from sklearn.metrics import confusion_matrix\n",
    "\n",
    "data=pd.read_csv(\"D:\\Masters Studies\\Fall 2016\\CS - 548\\Project 2\\Default_Credit_Card - Category.csv\",sep=\",\")\n",
    "start_time = time.time()\n",
    "k_fold = KFold(n_splits=10)\n",
    "clf = tree.DecisionTreeClassifier(criterion='entropy')\n",
    "scr=[]\n",
    "prediction=[]\n",
    "precision=[]\n",
    "roc=[]\n",
    "score=[]\n",
    "probability=[]\n",
    "confusion=[]\n",
    "for i in range(0,len(data)):\n",
    "    if data.iloc[i,6]<1:\n",
    "        data.iloc[i,6]==1\n",
    "    else:\n",
    "        data.iloc[i,6]==2\n",
    "for traindata, testdata in k_fold.split(data):\n",
    "    clf.fit(data.iloc[traindata,1:24],data.iloc[traindata,24])\n",
    "    x=clf.predict(data.iloc[testdata,1:24])\n",
    "    score.append(clf.score(data.iloc[testdata,1:24],data.iloc[testdata,24]))\n",
    "    probability.append(clf.predict_proba(data.iloc[testdata,1:24]))\n",
    "    precision.append(precision_score(data.iloc[testdata,24],x,average='weighted'))\n",
    "    confusion.append(confusion_matrix(data.iloc[testdata,24], x))\n",
    "    scr.append(clf.score(data.iloc[testdata,1:24],data.iloc[testdata,24]))\n",
    "print(probability)\n",
    "clf.feature_importances_\n",
    "\n",
    "with open(\"D:/Masters Studies/Fall 2016/CS - 548/Project 2/Python Decision Tree/tree.dot\", 'w') as f:\n",
    "     f = tree.export_graphviz(clf, out_file=f,class_names=['no','yes']) \n",
    "tree=clf.tree_\n",
    "tree.capacity\n",
    "sumconfusion=sum(confusion)\n",
    "print('recall=',(float(sumconfusion[0][0])/float((sumconfusion[0][0]+sumconfusion[0][1]))+float(sumconfusion[1][1])/float((sumconfusion[1][1]+sumconfusion[1][0])))/2)\n",
    "print('precision=' , (sum(precision)/10))\n",
    "print('scr=' , (sum(scr)/10))\n",
    "print('score=',(sum(score)/10))\n",
    "print(\"--- %s seconds ---\" % (time.time() - start_time))"
   ]
  },
  {
   "cell_type": "code",
   "execution_count": 12,
   "metadata": {
    "collapsed": false
   },
   "outputs": [],
   "source": [
    "\n",
    "predict=[]\n",
    "for x in range(0,len(prediction)):\n",
    "    for y in range(0,3000):\n",
    "        predict.append(prediction[x][y])\n"
   ]
  },
  {
   "cell_type": "code",
   "execution_count": 34,
   "metadata": {
    "collapsed": false
   },
   "outputs": [
    {
     "data": {
      "text/plain": [
       "[26870, 3130]"
      ]
     },
     "execution_count": 34,
     "metadata": {},
     "output_type": "execute_result"
    }
   ],
   "source": [
    "total=[]\n",
    "total.append((sumconfusion[0][0]+sumconfusion[1][0]))\n",
    "total.append((sumconfusion[0][1]+sumconfusion[1][1]))\n",
    "total"
   ]
  },
  {
   "cell_type": "code",
   "execution_count": 13,
   "metadata": {
    "collapsed": true
   },
   "outputs": [],
   "source": [
    "xaxis=[]\n",
    "for y in range(1,30001):\n",
    "    xaxis.append(y)"
   ]
  },
  {
   "cell_type": "code",
   "execution_count": null,
   "metadata": {
    "collapsed": true
   },
   "outputs": [],
   "source": []
  },
  {
   "cell_type": "code",
   "execution_count": 22,
   "metadata": {
    "collapsed": false
   },
   "outputs": [
    {
     "data": {
      "text/plain": [
       "array([0, 1, 2, 3, 4, 5])"
      ]
     },
     "execution_count": 22,
     "metadata": {},
     "output_type": "execute_result"
    }
   ],
   "source": [
    "objects = ('Python', 'C++', 'Java', 'Perl', 'Scala', 'Lisp')\n",
    "y_pos = np.arange(len(objects))\n",
    "y_pos"
   ]
  },
  {
   "cell_type": "code",
   "execution_count": null,
   "metadata": {
    "collapsed": false
   },
   "outputs": [],
   "source": [
    "import matplotlib.pyplot as plt\n",
    "plt.bar([0,1], total, align='center',alpha=0.5,color=['red','blue'])\n",
    "plt.xticks([0,1], ['No','Yes'])\n",
    "plt.title(\"Actual Data Set Results\")\n",
    "\n",
    "plt.show()"
   ]
  },
  {
   "cell_type": "code",
   "execution_count": null,
   "metadata": {
    "collapsed": false
   },
   "outputs": [
    {
     "data": {
      "text/plain": [
       "23364"
      ]
     },
     "execution_count": 36,
     "metadata": {},
     "output_type": "execute_result"
    }
   ],
   "source": [
    "total=data.iloc[:,24].value_counts()\n",
    "total[0]"
   ]
  },
  {
   "cell_type": "code",
   "execution_count": 39,
   "metadata": {
    "collapsed": false
   },
   "outputs": [
    {
     "ename": "ValueError",
     "evalue": "could not convert string to float: Yes",
     "output_type": "error",
     "traceback": [
      "\u001b[1;31m---------------------------------------------------------------------------\u001b[0m",
      "\u001b[1;31mValueError\u001b[0m                                Traceback (most recent call last)",
      "\u001b[1;32m<ipython-input-39-d49575bd0a57>\u001b[0m in \u001b[0;36m<module>\u001b[1;34m()\u001b[0m\n\u001b[0;32m      1\u001b[0m \u001b[1;33m\u001b[0m\u001b[0m\n\u001b[0;32m      2\u001b[0m \u001b[1;32mimport\u001b[0m \u001b[0mmatplotlib\u001b[0m\u001b[1;33m.\u001b[0m\u001b[0mpyplot\u001b[0m \u001b[1;32mas\u001b[0m \u001b[0mplt\u001b[0m\u001b[1;33m\u001b[0m\u001b[0m\n\u001b[1;32m----> 3\u001b[1;33m \u001b[0mplt\u001b[0m\u001b[1;33m.\u001b[0m\u001b[0mscatter\u001b[0m\u001b[1;33m(\u001b[0m\u001b[0mxaxis\u001b[0m\u001b[1;33m,\u001b[0m \u001b[0mpredict\u001b[0m\u001b[1;33m,\u001b[0m \u001b[0malpha\u001b[0m\u001b[1;33m=\u001b[0m\u001b[1;36m0.5\u001b[0m\u001b[1;33m)\u001b[0m\u001b[1;33m\u001b[0m\u001b[0m\n\u001b[0m\u001b[0;32m      4\u001b[0m \u001b[1;33m\u001b[0m\u001b[0m\n\u001b[0;32m      5\u001b[0m \u001b[1;33m\u001b[0m\u001b[0m\n",
      "\u001b[1;32mC:\\Users\\Deepan Sanghavi\\Anaconda2\\lib\\site-packages\\matplotlib\\pyplot.pyc\u001b[0m in \u001b[0;36mscatter\u001b[1;34m(x, y, s, c, marker, cmap, norm, vmin, vmax, alpha, linewidths, verts, edgecolors, hold, data, **kwargs)\u001b[0m\n\u001b[0;32m   3249\u001b[0m                          \u001b[0mvmin\u001b[0m\u001b[1;33m=\u001b[0m\u001b[0mvmin\u001b[0m\u001b[1;33m,\u001b[0m \u001b[0mvmax\u001b[0m\u001b[1;33m=\u001b[0m\u001b[0mvmax\u001b[0m\u001b[1;33m,\u001b[0m \u001b[0malpha\u001b[0m\u001b[1;33m=\u001b[0m\u001b[0malpha\u001b[0m\u001b[1;33m,\u001b[0m\u001b[1;33m\u001b[0m\u001b[0m\n\u001b[0;32m   3250\u001b[0m                          \u001b[0mlinewidths\u001b[0m\u001b[1;33m=\u001b[0m\u001b[0mlinewidths\u001b[0m\u001b[1;33m,\u001b[0m \u001b[0mverts\u001b[0m\u001b[1;33m=\u001b[0m\u001b[0mverts\u001b[0m\u001b[1;33m,\u001b[0m\u001b[1;33m\u001b[0m\u001b[0m\n\u001b[1;32m-> 3251\u001b[1;33m                          edgecolors=edgecolors, data=data, **kwargs)\n\u001b[0m\u001b[0;32m   3252\u001b[0m     \u001b[1;32mfinally\u001b[0m\u001b[1;33m:\u001b[0m\u001b[1;33m\u001b[0m\u001b[0m\n\u001b[0;32m   3253\u001b[0m         \u001b[0max\u001b[0m\u001b[1;33m.\u001b[0m\u001b[0mhold\u001b[0m\u001b[1;33m(\u001b[0m\u001b[0mwashold\u001b[0m\u001b[1;33m)\u001b[0m\u001b[1;33m\u001b[0m\u001b[0m\n",
      "\u001b[1;32mC:\\Users\\Deepan Sanghavi\\Anaconda2\\lib\\site-packages\\matplotlib\\__init__.pyc\u001b[0m in \u001b[0;36minner\u001b[1;34m(ax, *args, **kwargs)\u001b[0m\n\u001b[0;32m   1809\u001b[0m                     warnings.warn(msg % (label_namer, func.__name__),\n\u001b[0;32m   1810\u001b[0m                                   RuntimeWarning, stacklevel=2)\n\u001b[1;32m-> 1811\u001b[1;33m             \u001b[1;32mreturn\u001b[0m \u001b[0mfunc\u001b[0m\u001b[1;33m(\u001b[0m\u001b[0max\u001b[0m\u001b[1;33m,\u001b[0m \u001b[1;33m*\u001b[0m\u001b[0margs\u001b[0m\u001b[1;33m,\u001b[0m \u001b[1;33m**\u001b[0m\u001b[0mkwargs\u001b[0m\u001b[1;33m)\u001b[0m\u001b[1;33m\u001b[0m\u001b[0m\n\u001b[0m\u001b[0;32m   1812\u001b[0m         \u001b[0mpre_doc\u001b[0m \u001b[1;33m=\u001b[0m \u001b[0minner\u001b[0m\u001b[1;33m.\u001b[0m\u001b[0m__doc__\u001b[0m\u001b[1;33m\u001b[0m\u001b[0m\n\u001b[0;32m   1813\u001b[0m         \u001b[1;32mif\u001b[0m \u001b[0mpre_doc\u001b[0m \u001b[1;32mis\u001b[0m \u001b[0mNone\u001b[0m\u001b[1;33m:\u001b[0m\u001b[1;33m\u001b[0m\u001b[0m\n",
      "\u001b[1;32mC:\\Users\\Deepan Sanghavi\\Anaconda2\\lib\\site-packages\\matplotlib\\axes\\_axes.pyc\u001b[0m in \u001b[0;36mscatter\u001b[1;34m(self, x, y, s, c, marker, cmap, norm, vmin, vmax, alpha, linewidths, verts, edgecolors, **kwargs)\u001b[0m\n\u001b[0;32m   3920\u001b[0m             \u001b[0mself\u001b[0m\u001b[1;33m.\u001b[0m\u001b[0mset_ymargin\u001b[0m\u001b[1;33m(\u001b[0m\u001b[1;36m0.05\u001b[0m\u001b[1;33m)\u001b[0m\u001b[1;33m\u001b[0m\u001b[0m\n\u001b[0;32m   3921\u001b[0m \u001b[1;33m\u001b[0m\u001b[0m\n\u001b[1;32m-> 3922\u001b[1;33m         \u001b[0mself\u001b[0m\u001b[1;33m.\u001b[0m\u001b[0madd_collection\u001b[0m\u001b[1;33m(\u001b[0m\u001b[0mcollection\u001b[0m\u001b[1;33m)\u001b[0m\u001b[1;33m\u001b[0m\u001b[0m\n\u001b[0m\u001b[0;32m   3923\u001b[0m         \u001b[0mself\u001b[0m\u001b[1;33m.\u001b[0m\u001b[0mautoscale_view\u001b[0m\u001b[1;33m(\u001b[0m\u001b[1;33m)\u001b[0m\u001b[1;33m\u001b[0m\u001b[0m\n\u001b[0;32m   3924\u001b[0m \u001b[1;33m\u001b[0m\u001b[0m\n",
      "\u001b[1;32mC:\\Users\\Deepan Sanghavi\\Anaconda2\\lib\\site-packages\\matplotlib\\axes\\_base.pyc\u001b[0m in \u001b[0;36madd_collection\u001b[1;34m(self, collection, autolim)\u001b[0m\n\u001b[0;32m   1677\u001b[0m \u001b[1;33m\u001b[0m\u001b[0m\n\u001b[0;32m   1678\u001b[0m         \u001b[1;32mif\u001b[0m \u001b[0mautolim\u001b[0m\u001b[1;33m:\u001b[0m\u001b[1;33m\u001b[0m\u001b[0m\n\u001b[1;32m-> 1679\u001b[1;33m             \u001b[0mself\u001b[0m\u001b[1;33m.\u001b[0m\u001b[0mupdate_datalim\u001b[0m\u001b[1;33m(\u001b[0m\u001b[0mcollection\u001b[0m\u001b[1;33m.\u001b[0m\u001b[0mget_datalim\u001b[0m\u001b[1;33m(\u001b[0m\u001b[0mself\u001b[0m\u001b[1;33m.\u001b[0m\u001b[0mtransData\u001b[0m\u001b[1;33m)\u001b[0m\u001b[1;33m)\u001b[0m\u001b[1;33m\u001b[0m\u001b[0m\n\u001b[0m\u001b[0;32m   1680\u001b[0m \u001b[1;33m\u001b[0m\u001b[0m\n\u001b[0;32m   1681\u001b[0m         \u001b[0mcollection\u001b[0m\u001b[1;33m.\u001b[0m\u001b[0m_remove_method\u001b[0m \u001b[1;33m=\u001b[0m \u001b[1;32mlambda\u001b[0m \u001b[0mh\u001b[0m\u001b[1;33m:\u001b[0m \u001b[0mself\u001b[0m\u001b[1;33m.\u001b[0m\u001b[0mcollections\u001b[0m\u001b[1;33m.\u001b[0m\u001b[0mremove\u001b[0m\u001b[1;33m(\u001b[0m\u001b[0mh\u001b[0m\u001b[1;33m)\u001b[0m\u001b[1;33m\u001b[0m\u001b[0m\n",
      "\u001b[1;32mC:\\Users\\Deepan Sanghavi\\Anaconda2\\lib\\site-packages\\matplotlib\\collections.pyc\u001b[0m in \u001b[0;36mget_datalim\u001b[1;34m(self, transData)\u001b[0m\n\u001b[0;32m    194\u001b[0m             \u001b[0mtransOffset\u001b[0m \u001b[1;33m=\u001b[0m \u001b[0mtransOffset\u001b[0m\u001b[1;33m.\u001b[0m\u001b[0mget_affine\u001b[0m\u001b[1;33m(\u001b[0m\u001b[1;33m)\u001b[0m\u001b[1;33m\u001b[0m\u001b[0m\n\u001b[0;32m    195\u001b[0m \u001b[1;33m\u001b[0m\u001b[0m\n\u001b[1;32m--> 196\u001b[1;33m         \u001b[0moffsets\u001b[0m \u001b[1;33m=\u001b[0m \u001b[0mnp\u001b[0m\u001b[1;33m.\u001b[0m\u001b[0masanyarray\u001b[0m\u001b[1;33m(\u001b[0m\u001b[0moffsets\u001b[0m\u001b[1;33m,\u001b[0m \u001b[0mnp\u001b[0m\u001b[1;33m.\u001b[0m\u001b[0mfloat_\u001b[0m\u001b[1;33m)\u001b[0m\u001b[1;33m\u001b[0m\u001b[0m\n\u001b[0m\u001b[0;32m    197\u001b[0m         \u001b[1;32mif\u001b[0m \u001b[0mnp\u001b[0m\u001b[1;33m.\u001b[0m\u001b[0mma\u001b[0m\u001b[1;33m.\u001b[0m\u001b[0misMaskedArray\u001b[0m\u001b[1;33m(\u001b[0m\u001b[0moffsets\u001b[0m\u001b[1;33m)\u001b[0m\u001b[1;33m:\u001b[0m\u001b[1;33m\u001b[0m\u001b[0m\n\u001b[0;32m    198\u001b[0m             \u001b[0moffsets\u001b[0m \u001b[1;33m=\u001b[0m \u001b[0moffsets\u001b[0m\u001b[1;33m.\u001b[0m\u001b[0mfilled\u001b[0m\u001b[1;33m(\u001b[0m\u001b[0mnp\u001b[0m\u001b[1;33m.\u001b[0m\u001b[0mnan\u001b[0m\u001b[1;33m)\u001b[0m\u001b[1;33m\u001b[0m\u001b[0m\n",
      "\u001b[1;32mC:\\Users\\Deepan Sanghavi\\Anaconda2\\lib\\site-packages\\numpy\\core\\numeric.pyc\u001b[0m in \u001b[0;36masanyarray\u001b[1;34m(a, dtype, order)\u001b[0m\n\u001b[0;32m    531\u001b[0m \u001b[1;33m\u001b[0m\u001b[0m\n\u001b[0;32m    532\u001b[0m     \"\"\"\n\u001b[1;32m--> 533\u001b[1;33m     \u001b[1;32mreturn\u001b[0m \u001b[0marray\u001b[0m\u001b[1;33m(\u001b[0m\u001b[0ma\u001b[0m\u001b[1;33m,\u001b[0m \u001b[0mdtype\u001b[0m\u001b[1;33m,\u001b[0m \u001b[0mcopy\u001b[0m\u001b[1;33m=\u001b[0m\u001b[0mFalse\u001b[0m\u001b[1;33m,\u001b[0m \u001b[0morder\u001b[0m\u001b[1;33m=\u001b[0m\u001b[0morder\u001b[0m\u001b[1;33m,\u001b[0m \u001b[0msubok\u001b[0m\u001b[1;33m=\u001b[0m\u001b[0mTrue\u001b[0m\u001b[1;33m)\u001b[0m\u001b[1;33m\u001b[0m\u001b[0m\n\u001b[0m\u001b[0;32m    534\u001b[0m \u001b[1;33m\u001b[0m\u001b[0m\n\u001b[0;32m    535\u001b[0m \u001b[1;32mdef\u001b[0m \u001b[0mascontiguousarray\u001b[0m\u001b[1;33m(\u001b[0m\u001b[0ma\u001b[0m\u001b[1;33m,\u001b[0m \u001b[0mdtype\u001b[0m\u001b[1;33m=\u001b[0m\u001b[0mNone\u001b[0m\u001b[1;33m)\u001b[0m\u001b[1;33m:\u001b[0m\u001b[1;33m\u001b[0m\u001b[0m\n",
      "\u001b[1;31mValueError\u001b[0m: could not convert string to float: Yes"
     ]
    }
   ],
   "source": [
    "\n",
    "import matplotlib.pyplot as plt\n",
    "plt.plot(xaxis, predict, align='center',alpha=0.5,color=['red','blue'])\n",
    "plt.xticks([0,1], ['No','Yes'])\n",
    "plt.title(\"OneR Resuts\")\n",
    "\n",
    "plt.show()"
   ]
  },
  {
   "cell_type": "code",
   "execution_count": null,
   "metadata": {
    "collapsed": true
   },
   "outputs": [],
   "source": [
    "#J4.8 Guiding 2\n",
    "\n",
    "#J4.8\n",
    "import pandas as pd\n",
    "from sklearn.model_selection import KFold, cross_val_score\n",
    "from sklearn import tree\n",
    "from sklearn.metrics import precision_score\n",
    "from sklearn.metrics import roc_auc_score\n",
    "from sklearn.metrics import confusion_matrix\n",
    "\n",
    "data=pd.read_csv(\"D:\\Masters Studies\\Fall 2016\\CS - 548\\Project 2\\Default_Credit_Card - Category.csv\",sep=\",\")\n",
    "start_time = time.time()\n",
    "k_fold = KFold(n_splits=10)\n",
    "clf = tree.DecisionTreeClassifier(criterion='entropy')\n",
    "scr=[]\n",
    "prediction=[]\n",
    "precision=[]\n",
    "roc=[]\n",
    "score=[]\n",
    "probability=[]\n",
    "confusion=[]\n",
    "import numpy\n",
    "bin=numpy.histogram(data.iloc[:,5],3)\n",
    "for i in range(0,len(data)):\n",
    "    if data.iloc[i,5]<bin[1][1]:\n",
    "        data.iloc[i,5]='1'\n",
    "    if data.iloc[i,5]<bin[1][2]:\n",
    "        data.iloc[i,5]='2'\n",
    "    if data.iloc[i,5]>59:\n",
    "        data.iloc[i,5]='3'\n",
    "for traindata, testdata in k_fold.split(data):\n",
    "    clf.fit(data.iloc[traindata,5:12],data.iloc[traindata,24])\n",
    "    x=clf.predict(data.iloc[testdata,5:12])\n",
    "    score.append(clf.score(data.iloc[testdata,5:12],data.iloc[testdata,24]))\n",
    "    probability.append(clf.predict_proba(data.iloc[testdata,5:12]))\n",
    "    precision.append(precision_score(data.iloc[testdata,24],x,average='weighted'))\n",
    "    confusion.append(confusion_matrix(data.iloc[testdata,24], x))\n",
    "    scr.append(clf.score(data.iloc[testdata,5:12],data.iloc[testdata,24]))\n",
    "print(probability)\n",
    "clf.feature_importances_\n",
    "\n",
    "with open(\"D:/Masters Studies/Fall 2016/CS - 548/Project 2/Python Decision Tree/tree.dot\", 'w') as f:\n",
    "     f = tree.export_graphviz(clf, out_file=f,feature_names=data.columns[5:12],class_names=['no','yes']) \n",
    "tree=clf.tree_\n",
    "tree.capacity\n",
    "sumconfusion=sum(confusion)\n",
    "print('recall=',(float(sumconfusion[0][0])/float((sumconfusion[0][0]+sumconfusion[0][1]))+float(sumconfusion[1][1])/float((sumconfusion[1][1]+sumconfusion[1][0])))/2)\n",
    "print('precision=' , (sum(precision)/10))\n",
    "print('scr=' , (sum(scr)/10))\n",
    "print('score=',(sum(score)/10))\n",
    "print(\"--- %s seconds ---\" % (time.time() - start_time))"
   ]
  },
  {
   "cell_type": "code",
   "execution_count": null,
   "metadata": {
    "collapsed": true
   },
   "outputs": [],
   "source": [
    "#J4.8 Guiding 3\n",
    "\n",
    "import pandas as pd\n",
    "from sklearn.model_selection import KFold, cross_val_score\n",
    "from sklearn import tree\n",
    "from sklearn.metrics import precision_score\n",
    "from sklearn.metrics import roc_auc_score\n",
    "from sklearn.metrics import confusion_matrix\n",
    "\n",
    "data=pd.read_csv(\"D:\\Masters Studies\\Fall 2016\\CS - 548\\Project 2\\Default_Credit_Card - Category.csv\",sep=\",\")\n",
    "start_time = time.time()\n",
    "k_fold = KFold(n_splits=10)\n",
    "clf = tree.DecisionTreeClassifier(criterion='entropy')\n",
    "scr=[]\n",
    "prediction=[]\n",
    "precision=[]\n",
    "roc=[]\n",
    "score=[]\n",
    "probability=[]\n",
    "confusion=[]\n",
    "for traindata, testdata in k_fold.split(data):\n",
    "    clf.fit(data.iloc[traindata,18:24],data.iloc[traindata,24])\n",
    "    x=clf.predict(data.iloc[testdata,18:24])\n",
    "    score.append(clf.score(data.iloc[testdata,18:24],data.iloc[testdata,24]))\n",
    "    probability.append(clf.predict_proba(data.iloc[testdata,18:24]))\n",
    "    precision.append(precision_score(data.iloc[testdata,24],x,average='weighted'))\n",
    "    confusion.append(confusion_matrix(data.iloc[testdata,24], x))\n",
    "    scr.append(clf.score(data.iloc[testdata,18:24],data.iloc[testdata,24]))\n",
    "#print(probability)\n",
    "clf.feature_importances_\n",
    "\n",
    "with open(\"D:/Masters Studies/Fall 2016/CS - 548/Project 2/Python Decision Tree/tree.dot\", 'w') as f:\n",
    "     f = tree.export_graphviz(clf, out_file=f,feature_names=data.columns[18:24],class_names=['no','yes']) \n",
    "tree=clf.tree_\n",
    "tree.capacity\n",
    "sumconfusion=sum(confusion)\n",
    "print('recall=',(float(sumconfusion[0][0])/float((sumconfusion[0][0]+sumconfusion[0][1]))+float(sumconfusion[1][1])/float((sumconfusion[1][1]+sumconfusion[1][0])))/2)\n",
    "print('precision=' , (sum(precision)/10))\n",
    "print('scr=' , (sum(scr)/10))\n",
    "print('score=',(sum(score)/10))\n",
    "print(\"--- %s seconds ---\" % (time.time() - start_time))"
   ]
  },
  {
   "cell_type": "code",
   "execution_count": null,
   "metadata": {
    "collapsed": true
   },
   "outputs": [],
   "source": [
    "#J4.8 Guiding 3\n",
    "\n",
    "import pandas as pd\n",
    "from sklearn.model_selection import KFold, cross_val_score\n",
    "from sklearn import tree\n",
    "from sklearn.metrics import precision_score\n",
    "from sklearn.metrics import roc_auc_score\n",
    "from sklearn.metrics import confusion_matrix\n",
    "\n",
    "data=pd.read_csv(\"D:\\Masters Studies\\Fall 2016\\CS - 548\\Project 2\\Default_Credit_Card - Category.csv\",sep=\",\")\n",
    "start_time = time.time()\n",
    "k_fold = KFold(n_splits=10)\n",
    "clf = tree.DecisionTreeClassifier(criterion='entropy')\n",
    "scr=[]\n",
    "prediction=[]\n",
    "precision=[]\n",
    "roc=[]\n",
    "score=[]\n",
    "probability=[]\n",
    "confusion=[]\n",
    "for traindata, testdata in k_fold.split(data):\n",
    "    clf.fit(data.iloc[traindata,1:18],data.iloc[traindata,24])\n",
    "    x=clf.predict(data.iloc[testdata,1:18])\n",
    "    score.append(clf.score(data.iloc[testdata,1:18],data.iloc[testdata,24]))\n",
    "    probability.append(clf.predict_proba(data.iloc[testdata,1:18]))\n",
    "    precision.append(precision_score(data.iloc[testdata,24],x,average='weighted'))\n",
    "    confusion.append(confusion_matrix(data.iloc[testdata,24], x))\n",
    "    scr.append(clf.score(data.iloc[testdata,1:18],data.iloc[testdata,24]))\n",
    "#print(probability)\n",
    "clf.feature_importances_\n",
    "\n",
    "with open(\"D:/Masters Studies/Fall 2016/CS - 548/Project 2/Python Decision Tree/tree.dot\", 'w') as f:\n",
    "     f = tree.export_graphviz(clf, out_file=f,feature_names=data.columns[1:18],class_names=['no','yes']) \n",
    "tree=clf.tree_\n",
    "tree.capacity\n",
    "sumconfusion=sum(confusion)\n",
    "print('recall=',(float(sumconfusion[0][0])/float((sumconfusion[0][0]+sumconfusion[0][1]))+float(sumconfusion[1][1])/float((sumconfusion[1][1]+sumconfusion[1][0])))/2)\n",
    "print('precision=' , (sum(precision)/10))\n",
    "print('scr=' , (sum(scr)/10))\n",
    "print('score=',(sum(score)/10))\n",
    "print(\"--- %s seconds ---\" % (time.time() - start_time))"
   ]
  }
 ],
 "metadata": {
  "anaconda-cloud": {},
  "kernelspec": {
   "display_name": "Python [Root]",
   "language": "python",
   "name": "Python [Root]"
  },
  "language_info": {
   "codemirror_mode": {
    "name": "ipython",
    "version": 2
   },
   "file_extension": ".py",
   "mimetype": "text/x-python",
   "name": "python",
   "nbconvert_exporter": "python",
   "pygments_lexer": "ipython2",
   "version": "2.7.12"
  }
 },
 "nbformat": 4,
 "nbformat_minor": 0
}
